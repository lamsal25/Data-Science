{
 "cells": [
  {
   "cell_type": "markdown",
   "id": "8356a54f-368a-47ce-9439-89003a2cea54",
   "metadata": {},
   "source": [
    "###### 4. Create a list of your favorite movies and print it. Then, append a new movie to the list and print the updated list."
   ]
  },
  {
   "cell_type": "code",
   "execution_count": 5,
   "id": "0062f73a-be81-4e8f-ac0e-9b88a9ef7735",
   "metadata": {},
   "outputs": [
    {
     "data": {
      "text/plain": [
       "['Doctor strange', 'Shawshank Redemption', 'Iron Man', 'The Imitation Game']"
      ]
     },
     "execution_count": 5,
     "metadata": {},
     "output_type": "execute_result"
    }
   ],
   "source": [
    "movies = [\"Doctor strange\", \"Shawshank Redemption\", \"Iron Man\", \"The Imitation Game\"]\n",
    "movies"
   ]
  },
  {
   "cell_type": "code",
   "execution_count": 6,
   "id": "1e783be8-0695-4903-8047-8a067094607e",
   "metadata": {},
   "outputs": [
    {
     "data": {
      "text/plain": [
       "['Doctor strange',\n",
       " 'Shawshank Redemption',\n",
       " 'Iron Man',\n",
       " 'The Imitation Game',\n",
       " 'The Matrix']"
      ]
     },
     "execution_count": 6,
     "metadata": {},
     "output_type": "execute_result"
    }
   ],
   "source": [
    "movies.append(\"The Matrix\")\n",
    "movies"
   ]
  },
  {
   "cell_type": "code",
   "execution_count": null,
   "id": "31f4af41-5c51-4f99-b58e-612279dc74ee",
   "metadata": {},
   "outputs": [],
   "source": []
  },
  {
   "cell_type": "markdown",
   "id": "5ed0985a-5757-4dec-ae45-4f784c556a5c",
   "metadata": {},
   "source": [
    "###### 5. Create a list of integers from 1 to 10 and print it. Calculate the sum of all the numbers in the list and print the result."
   ]
  },
  {
   "cell_type": "code",
   "execution_count": 7,
   "id": "d44b5313-8821-4ebd-8916-ddefe24e56b8",
   "metadata": {},
   "outputs": [
    {
     "data": {
      "text/plain": [
       "[1, 2, 3, 4, 5, 6, 7, 8, 9, 10]"
      ]
     },
     "execution_count": 7,
     "metadata": {},
     "output_type": "execute_result"
    }
   ],
   "source": [
    "integer = [1,2,3,4,5,6,7,8,9,10]\n",
    "integer\n"
   ]
  },
  {
   "cell_type": "code",
   "execution_count": 16,
   "id": "6cc05a0a-6515-4cab-ba2d-9689b2e67e8b",
   "metadata": {},
   "outputs": [
    {
     "name": "stdout",
     "output_type": "stream",
     "text": [
      "55\n"
     ]
    }
   ],
   "source": [
    "total = 0 \n",
    "for num in integer:\n",
    "    total +=num \n",
    "\n",
    "print (total)"
   ]
  },
  {
   "cell_type": "code",
   "execution_count": 18,
   "id": "425f6df4-c7db-495c-ba07-b229dccbe587",
   "metadata": {},
   "outputs": [
    {
     "data": {
      "text/plain": [
       "55"
      ]
     },
     "execution_count": 18,
     "metadata": {},
     "output_type": "execute_result"
    }
   ],
   "source": [
    "total_sum = sum(integer)\n",
    "total_sum"
   ]
  },
  {
   "cell_type": "code",
   "execution_count": null,
   "id": "76edc7ee-e010-42f7-858d-682960e42f46",
   "metadata": {},
   "outputs": [],
   "source": []
  },
  {
   "cell_type": "markdown",
   "id": "dabec991-4516-48dd-ab64-38c174f43168",
   "metadata": {},
   "source": [
    "###### 6. Create a list of mixed data types including strings, integers, and floats and print it. Remove the first element from the list and print the modified list."
   ]
  },
  {
   "cell_type": "code",
   "execution_count": 24,
   "id": "9ca325de-2b99-4303-b647-02bef5bd7e1c",
   "metadata": {},
   "outputs": [
    {
     "data": {
      "text/plain": [
       "['Govinda', 21, 5000.25]"
      ]
     },
     "execution_count": 24,
     "metadata": {},
     "output_type": "execute_result"
    }
   ],
   "source": [
    "mixed_list = [\"Govinda\", 21, 5000.25]\n",
    "mixed_list"
   ]
  },
  {
   "cell_type": "code",
   "execution_count": 33,
   "id": "c7cbb67d-ce23-40bf-abc9-274abd6f993d",
   "metadata": {},
   "outputs": [
    {
     "data": {
      "text/plain": [
       "[21, 5000.25]"
      ]
     },
     "execution_count": 33,
     "metadata": {},
     "output_type": "execute_result"
    }
   ],
   "source": [
    "mixed_list.pop(0)\n",
    "mixed_list"
   ]
  },
  {
   "cell_type": "code",
   "execution_count": null,
   "id": "9fcfda65-faf0-423c-9636-003dd4c2f107",
   "metadata": {},
   "outputs": [],
   "source": []
  },
  {
   "cell_type": "markdown",
   "id": "2878c878-36c2-4a1e-906b-46fbb1fbce02",
   "metadata": {},
   "source": [
    "###### 7. Create a tuple containing the names of the days of the week and print it. Access and print the name of the third day."
   ]
  },
  {
   "cell_type": "code",
   "execution_count": 38,
   "id": "595d36b4-b1ae-4e67-93c5-25e817c47a1b",
   "metadata": {},
   "outputs": [
    {
     "data": {
      "text/plain": [
       "('sunday', 'monday', 'tuesday', 'wednesday', 'thursday', 'friday', 'saturday')"
      ]
     },
     "execution_count": 38,
     "metadata": {},
     "output_type": "execute_result"
    }
   ],
   "source": [
    "days = (\"sunday\", \"monday\" , \"tuesday\" , \"wednesday\", \"thursday\", \"friday\", \"saturday\")\n",
    "days"
   ]
  },
  {
   "cell_type": "code",
   "execution_count": 39,
   "id": "e567cdc9-fe2a-454b-a7dc-516a0932f85c",
   "metadata": {},
   "outputs": [
    {
     "data": {
      "text/plain": [
       "'wednesday'"
      ]
     },
     "execution_count": 39,
     "metadata": {},
     "output_type": "execute_result"
    }
   ],
   "source": [
    "days[3]"
   ]
  },
  {
   "cell_type": "code",
   "execution_count": null,
   "id": "1b8be9f3-34e8-42e7-a4eb-3e45662a252b",
   "metadata": {},
   "outputs": [],
   "source": []
  },
  {
   "cell_type": "markdown",
   "id": "04519b08-7e02-44dd-af90-4c7e75289ace",
   "metadata": {},
   "source": [
    "###### 8. Create a tuple of your favorite colors and print it. Check if a certain color is present in the tuple and print the result."
   ]
  },
  {
   "cell_type": "code",
   "execution_count": 40,
   "id": "931b5a3e-9d41-4478-b213-4d067e1401b2",
   "metadata": {},
   "outputs": [
    {
     "data": {
      "text/plain": [
       "('red', 'green', 'blue', 'yellow')"
      ]
     },
     "execution_count": 40,
     "metadata": {},
     "output_type": "execute_result"
    }
   ],
   "source": [
    "colors = (\"red\" ,\"green\", \"blue\", \"yellow\")\n",
    "colors"
   ]
  },
  {
   "cell_type": "code",
   "execution_count": 46,
   "id": "5f7e664f-b9e1-467f-b1d5-cfcba333129e",
   "metadata": {},
   "outputs": [
    {
     "data": {
      "text/plain": [
       "True"
      ]
     },
     "execution_count": 46,
     "metadata": {},
     "output_type": "execute_result"
    }
   ],
   "source": [
    "check = \"green\"\n",
    "is_present = check in colors\n",
    "is_present"
   ]
  },
  {
   "cell_type": "code",
   "execution_count": 45,
   "id": "c50d583c-897e-4e0b-8cc7-7b8710486470",
   "metadata": {},
   "outputs": [
    {
     "data": {
      "text/plain": [
       "False"
      ]
     },
     "execution_count": 45,
     "metadata": {},
     "output_type": "execute_result"
    }
   ],
   "source": [
    "check = \"black\"\n",
    "is_present = check in colors\n",
    "is_present"
   ]
  },
  {
   "cell_type": "code",
   "execution_count": null,
   "id": "66592840-047a-42c2-9491-2668e59a3056",
   "metadata": {},
   "outputs": [],
   "source": []
  },
  {
   "cell_type": "markdown",
   "id": "f891b138-846e-439a-9c2f-642cf08732ea",
   "metadata": {},
   "source": [
    "###### 9. Create a dictionary representing the information of a book with keys \"title\", \"author\", and \"year\" and print it. Update the year of the book and print the updated dictionary."
   ]
  },
  {
   "cell_type": "code",
   "execution_count": 51,
   "id": "67595b94-15ed-45e2-8ae1-07ead278d95b",
   "metadata": {},
   "outputs": [
    {
     "data": {
      "text/plain": [
       "{'title': 'science', 'author': 'ram', 'year': 2020}"
      ]
     },
     "execution_count": 51,
     "metadata": {},
     "output_type": "execute_result"
    }
   ],
   "source": [
    "book = {\"title\":\"science\", \"author\":\"ram\", \"year\": 2020}\n",
    "book"
   ]
  },
  {
   "cell_type": "code",
   "execution_count": 52,
   "id": "92e40f76-6def-4747-a7f6-68bf61c6bf0d",
   "metadata": {},
   "outputs": [
    {
     "data": {
      "text/plain": [
       "{'title': 'science', 'author': 'ram', 'year': 2024}"
      ]
     },
     "execution_count": 52,
     "metadata": {},
     "output_type": "execute_result"
    }
   ],
   "source": [
    "book['year'] = 2024\n",
    "book"
   ]
  },
  {
   "cell_type": "code",
   "execution_count": null,
   "id": "54e0e339-6072-4290-aaa0-cf205cf3e203",
   "metadata": {},
   "outputs": [],
   "source": []
  },
  {
   "cell_type": "markdown",
   "id": "d3510a2d-a133-4db8-b405-fecf4a933ce9",
   "metadata": {},
   "source": [
    "###### 10. Create a dictionary containing the names of fruits as keys and their corresponding colorsas values and print it. Add a new fruit-color pair to the dictionary and print the updated dictionary."
   ]
  },
  {
   "cell_type": "code",
   "execution_count": 53,
   "id": "20c14f72-1a10-42c0-97ed-592a1f68d5d4",
   "metadata": {},
   "outputs": [
    {
     "data": {
      "text/plain": [
       "{'mango': 'yellow', 'orange': 'orange', 'apple': 'red'}"
      ]
     },
     "execution_count": 53,
     "metadata": {},
     "output_type": "execute_result"
    }
   ],
   "source": [
    "fruit = { \"mango\" : \"yellow\", \"orange\":\"orange\", \"apple\":\"red\"}\n",
    "fruit"
   ]
  },
  {
   "cell_type": "code",
   "execution_count": 54,
   "id": "f2328adf-a0da-41e4-9e49-eaebb8402ccd",
   "metadata": {},
   "outputs": [
    {
     "data": {
      "text/plain": [
       "{'mango': 'yellow', 'orange': 'orange', 'apple': 'red', 'kiwi': 'green'}"
      ]
     },
     "execution_count": 54,
     "metadata": {},
     "output_type": "execute_result"
    }
   ],
   "source": [
    "fruit[\"kiwi\"] = \"green\"\n",
    "fruit"
   ]
  },
  {
   "cell_type": "code",
   "execution_count": null,
   "id": "6abeb4b5-78c2-49fa-8dc6-8e5a8b49ed4e",
   "metadata": {},
   "outputs": [],
   "source": []
  },
  {
   "cell_type": "markdown",
   "id": "7837345d-1211-445a-8e2f-2db4b06c5c6a",
   "metadata": {},
   "source": [
    "###### 11. Create a dictionary representing the population of different cities with keys as city namesand values as population numbers and print it. Remove a city from the dictionary and print the modified dictionary."
   ]
  },
  {
   "cell_type": "code",
   "execution_count": 55,
   "id": "988b40dc-3d39-476d-a709-7a4a8342ae7f",
   "metadata": {},
   "outputs": [
    {
     "data": {
      "text/plain": [
       "{'kathmandu': 5000000, 'New Delhi': 10000000, 'NewYork': 300000}"
      ]
     },
     "execution_count": 55,
     "metadata": {},
     "output_type": "execute_result"
    }
   ],
   "source": [
    "city = {\"kathmandu\":5000000, \"New Delhi\":10000000, \"NewYork\":300000}\n",
    "city"
   ]
  },
  {
   "cell_type": "code",
   "execution_count": 57,
   "id": "3e5c30e2-b14c-4a69-88d3-595257ec17f7",
   "metadata": {},
   "outputs": [
    {
     "data": {
      "text/plain": [
       "{'kathmandu': 5000000, 'NewYork': 300000}"
      ]
     },
     "execution_count": 57,
     "metadata": {},
     "output_type": "execute_result"
    }
   ],
   "source": [
    "del city['New Delhi']\n",
    "city"
   ]
  },
  {
   "cell_type": "code",
   "execution_count": null,
   "id": "8328e559-1c0a-4765-8a1d-5ac7f6995f66",
   "metadata": {},
   "outputs": [],
   "source": []
  }
 ],
 "metadata": {
  "kernelspec": {
   "display_name": "Python 3 (ipykernel)",
   "language": "python",
   "name": "python3"
  },
  "language_info": {
   "codemirror_mode": {
    "name": "ipython",
    "version": 3
   },
   "file_extension": ".py",
   "mimetype": "text/x-python",
   "name": "python",
   "nbconvert_exporter": "python",
   "pygments_lexer": "ipython3",
   "version": "3.12.5"
  }
 },
 "nbformat": 4,
 "nbformat_minor": 5
}
