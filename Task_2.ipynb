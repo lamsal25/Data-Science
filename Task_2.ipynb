{
 "cells": [
  {
   "cell_type": "code",
   "execution_count": 1,
   "id": "98cf07da-d1dc-40eb-a325-e2baf25482e6",
   "metadata": {},
   "outputs": [],
   "source": [
    "import numpy as np"
   ]
  },
  {
   "cell_type": "markdown",
   "id": "7d4b55b3-c076-49e0-9e8d-b0225d91d5fd",
   "metadata": {},
   "source": [
    "## Array Creation:\n",
    "- Create a 1-dimensional array of integers from 1 to 10.\n",
    "- Create a 2-dimensional array with random float values of shape(3,4)\n",
    "- Create a 3-dimensional array of zeros with shape (2, 3, 4)."
   ]
  },
  {
   "cell_type": "code",
   "execution_count": 50,
   "id": "1e5f6688-2522-4e2e-b2c7-46fab2daa91e",
   "metadata": {},
   "outputs": [
    {
     "data": {
      "text/plain": [
       "1"
      ]
     },
     "execution_count": 50,
     "metadata": {},
     "output_type": "execute_result"
    }
   ],
   "source": [
    "# One dimensional array\n",
    "dim_1 = np.array(range(1,11))\n",
    "np.ndim(dim_1)\n"
   ]
  },
  {
   "cell_type": "code",
   "execution_count": 51,
   "id": "f8fb90ae-6c9a-4b72-80f8-5eb155883fa9",
   "metadata": {},
   "outputs": [
    {
     "data": {
      "text/plain": [
       "(3, 4)"
      ]
     },
     "execution_count": 51,
     "metadata": {},
     "output_type": "execute_result"
    }
   ],
   "source": [
    "# 2-dimensional array \n",
    "dim_2 = np.array([[1.0, 2.3, 4.2, 5.6],[2.3, 6.8, 7.4, 9.0],[5.6, 7.0, 4.8, 2.0]])\n",
    "dim_2.shape"
   ]
  },
  {
   "cell_type": "code",
   "execution_count": 52,
   "id": "b8226e95-c31f-418b-b5c3-e0fc1899388f",
   "metadata": {},
   "outputs": [
    {
     "data": {
      "text/plain": [
       "2"
      ]
     },
     "execution_count": 52,
     "metadata": {},
     "output_type": "execute_result"
    }
   ],
   "source": [
    "np.ndim(dim_2)"
   ]
  },
  {
   "cell_type": "code",
   "execution_count": 53,
   "id": "48425e3d-b00a-4b44-bd49-e476f391e4c3",
   "metadata": {},
   "outputs": [
    {
     "data": {
      "text/plain": [
       "array([[[0., 0., 0., 0.],\n",
       "        [0., 0., 0., 0.],\n",
       "        [0., 0., 0., 0.]],\n",
       "\n",
       "       [[0., 0., 0., 0.],\n",
       "        [0., 0., 0., 0.],\n",
       "        [0., 0., 0., 0.]]])"
      ]
     },
     "execution_count": 53,
     "metadata": {},
     "output_type": "execute_result"
    }
   ],
   "source": [
    "# 3-dimensional array of zeros with shape (2, 3, 4)\n",
    "dim_3 = np.zeros([2,3,4])\n",
    "dim_3"
   ]
  },
  {
   "cell_type": "code",
   "execution_count": 54,
   "id": "d1cbe3ba-e4a6-4d98-b6ef-d8805872c530",
   "metadata": {},
   "outputs": [
    {
     "data": {
      "text/plain": [
       "(2, 3, 4)"
      ]
     },
     "execution_count": 54,
     "metadata": {},
     "output_type": "execute_result"
    }
   ],
   "source": [
    "dim_3.shape"
   ]
  },
  {
   "cell_type": "code",
   "execution_count": null,
   "id": "4a208bb7-2b8a-4d85-8729-b26f2e79c74b",
   "metadata": {},
   "outputs": [],
   "source": []
  },
  {
   "cell_type": "markdown",
   "id": "23a3fe52-b400-44bb-a2ed-316e87287f97",
   "metadata": {},
   "source": [
    "## Array Operations:\n",
    "- Given two 1-dimensional arrays, perform element-wise addition,subtraction, multiplication, and\n",
    "  division.\n",
    "- Calculate the mean, median, and standard deviation of a given 1 dimensional array.\n",
    "- Reshape a 1-dimensional array into a 2-dimensional array of shape (3,4)."
   ]
  },
  {
   "cell_type": "code",
   "execution_count": 56,
   "id": "18da1e92-8232-4f38-937b-a726788fc77c",
   "metadata": {},
   "outputs": [],
   "source": [
    "a = np.array([1,2,3,4,5])\n",
    "b = np.array([6,7,8,9,10])"
   ]
  },
  {
   "cell_type": "code",
   "execution_count": 57,
   "id": "eee094d7-ce47-4349-8cf6-6520043a3d12",
   "metadata": {},
   "outputs": [
    {
     "data": {
      "text/plain": [
       "array([ 7,  9, 11, 13, 15])"
      ]
     },
     "execution_count": 57,
     "metadata": {},
     "output_type": "execute_result"
    }
   ],
   "source": [
    "# addition\n",
    "result = a+b\n",
    "result"
   ]
  },
  {
   "cell_type": "code",
   "execution_count": 58,
   "id": "2c04e460-f0d2-4a17-bf00-ab870a7fb709",
   "metadata": {},
   "outputs": [
    {
     "data": {
      "text/plain": [
       "array([5, 5, 5, 5, 5])"
      ]
     },
     "execution_count": 58,
     "metadata": {},
     "output_type": "execute_result"
    }
   ],
   "source": [
    "# subtraction\n",
    "result = b - a\n",
    "result"
   ]
  },
  {
   "cell_type": "code",
   "execution_count": 59,
   "id": "d44811b4-91fb-44b8-a38b-5309a31fd462",
   "metadata": {},
   "outputs": [
    {
     "data": {
      "text/plain": [
       "array([ 6, 14, 24, 36, 50])"
      ]
     },
     "execution_count": 59,
     "metadata": {},
     "output_type": "execute_result"
    }
   ],
   "source": [
    "# Multiplication\n",
    "result = a * b\n",
    "result"
   ]
  },
  {
   "cell_type": "code",
   "execution_count": 60,
   "id": "71445f5c-1110-4930-bf5b-9e12167387b2",
   "metadata": {},
   "outputs": [
    {
     "name": "stdout",
     "output_type": "stream",
     "text": [
      "[6.         3.5        2.66666667 2.25       2.        ]\n"
     ]
    }
   ],
   "source": [
    "# Division\n",
    "result = b / a\n",
    "print(result)"
   ]
  },
  {
   "cell_type": "code",
   "execution_count": null,
   "id": "e2d8e20e-d308-4aea-8202-3e5d80cf443a",
   "metadata": {},
   "outputs": [],
   "source": []
  },
  {
   "cell_type": "code",
   "execution_count": 61,
   "id": "38c6452b-db4b-4d04-bdb1-22619460420d",
   "metadata": {},
   "outputs": [
    {
     "name": "stdout",
     "output_type": "stream",
     "text": [
      "3.0\n"
     ]
    }
   ],
   "source": [
    "mean = np.mean(a)\n",
    "print(mean)"
   ]
  },
  {
   "cell_type": "code",
   "execution_count": 62,
   "id": "3f7b7434-c4c1-48cd-bad0-b37bb1c8cb05",
   "metadata": {},
   "outputs": [
    {
     "name": "stdout",
     "output_type": "stream",
     "text": [
      "median 8.0\n"
     ]
    }
   ],
   "source": [
    "median = np.median(b)\n",
    "print(\"median\" , median)"
   ]
  },
  {
   "cell_type": "code",
   "execution_count": 64,
   "id": "4a1cafc4-d00d-4a3e-b000-a57230cb2605",
   "metadata": {},
   "outputs": [
    {
     "name": "stdout",
     "output_type": "stream",
     "text": [
      "Standard deviation:  1.4142135623730951\n"
     ]
    }
   ],
   "source": [
    "std = np.std(a)\n",
    "print(\"Standard deviation: \",std)"
   ]
  },
  {
   "cell_type": "code",
   "execution_count": null,
   "id": "cb02f263-dbcd-40fa-bf4e-20b93a013238",
   "metadata": {},
   "outputs": [],
   "source": []
  },
  {
   "cell_type": "code",
   "execution_count": 65,
   "id": "081f375f-c2fa-4476-bfe9-cf9e330a732e",
   "metadata": {},
   "outputs": [
    {
     "data": {
      "text/plain": [
       "array([[ 1,  2,  3,  4],\n",
       "       [ 5,  6,  7,  8],\n",
       "       [ 9, 10, 11, 12]])"
      ]
     },
     "execution_count": 65,
     "metadata": {},
     "output_type": "execute_result"
    }
   ],
   "source": [
    "array_1D = np.array([1,2,3,4,5,6,7,8,9,10,11,12])\n",
    "converted_2D = array_1D.reshape(3,4)\n",
    "converted_2D"
   ]
  },
  {
   "cell_type": "code",
   "execution_count": 66,
   "id": "eebd2b21-6fe8-4c97-a56a-4b576e972694",
   "metadata": {},
   "outputs": [
    {
     "data": {
      "text/plain": [
       "2"
      ]
     },
     "execution_count": 66,
     "metadata": {},
     "output_type": "execute_result"
    }
   ],
   "source": [
    "converted_2D.ndim"
   ]
  },
  {
   "cell_type": "code",
   "execution_count": null,
   "id": "e990070a-e536-4a45-86e9-5214530ab194",
   "metadata": {},
   "outputs": [],
   "source": []
  },
  {
   "cell_type": "code",
   "execution_count": null,
   "id": "502b5e58-dcd3-4148-ba6b-c1420f765bbf",
   "metadata": {},
   "outputs": [],
   "source": []
  },
  {
   "cell_type": "markdown",
   "id": "678e4d6b-6728-4f3c-a64e-a3578281f4da",
   "metadata": {},
   "source": [
    "## Array Indexing and Slicing:\n",
    "- Extract the first row and last column of a 2-dimensional array.\n",
    "- Reverse the order of elements in a 1-dimensional array.\n",
    "- Select elements from a 2-dimensional array that satisfy a specific condition (e.g., values        greater than a certain threshold)."
   ]
  },
  {
   "cell_type": "code",
   "execution_count": 2,
   "id": "5149ebe1-2ac7-4b1a-a84b-d4024f762e4b",
   "metadata": {},
   "outputs": [
    {
     "data": {
      "text/plain": [
       "array([[1, 2],\n",
       "       [3, 4]])"
      ]
     },
     "execution_count": 2,
     "metadata": {},
     "output_type": "execute_result"
    }
   ],
   "source": [
    "arr = np.array([[1,2],[3,4]])\n",
    "arr"
   ]
  },
  {
   "cell_type": "code",
   "execution_count": 6,
   "id": "0042355c-7c3b-49d1-b651-fdb614757706",
   "metadata": {},
   "outputs": [
    {
     "name": "stdout",
     "output_type": "stream",
     "text": [
      "[1 2]\n"
     ]
    }
   ],
   "source": [
    "# first row\n",
    "a = arr[0, :]\n",
    "print(a)"
   ]
  },
  {
   "cell_type": "code",
   "execution_count": 7,
   "id": "669c7842-30ba-40b7-be18-987ae589a2f1",
   "metadata": {},
   "outputs": [
    {
     "data": {
      "text/plain": [
       "array([2, 4])"
      ]
     },
     "execution_count": 7,
     "metadata": {},
     "output_type": "execute_result"
    }
   ],
   "source": [
    "# last column\n",
    "b = arr[: ,-1]\n",
    "b"
   ]
  },
  {
   "cell_type": "code",
   "execution_count": null,
   "id": "21105902-9550-4243-b93f-69114f1bbd12",
   "metadata": {},
   "outputs": [],
   "source": []
  },
  {
   "cell_type": "code",
   "execution_count": 43,
   "id": "89c09693-211a-4fae-82ff-7a69a575924f",
   "metadata": {},
   "outputs": [
    {
     "name": "stdout",
     "output_type": "stream",
     "text": [
      "reversed:  [5 4 3 2 1]\n"
     ]
    }
   ],
   "source": [
    "# Reversiing the array\n",
    "a = np.array([1,2,3,4,5])\n",
    "one_dim = a[::-1]\n",
    "print(\"reversed: \",one_dim)"
   ]
  },
  {
   "cell_type": "code",
   "execution_count": 44,
   "id": "a0ff1c09-0377-4ef5-8960-89985facf8ae",
   "metadata": {},
   "outputs": [
    {
     "name": "stdout",
     "output_type": "stream",
     "text": [
      "reversed:  [5 4 3 2 1]\n"
     ]
    }
   ],
   "source": [
    "# Reversiing the array\n",
    "a = np.array([1,2,3,4,5])\n",
    "one_dim = np.flip(a)\n",
    "print(\"reversed: \",one_dim)"
   ]
  },
  {
   "cell_type": "code",
   "execution_count": null,
   "id": "02ae8eff-167f-45b5-ab8f-2c0ef3d318d5",
   "metadata": {},
   "outputs": [],
   "source": []
  },
  {
   "cell_type": "code",
   "execution_count": 24,
   "id": "cbe124c1-fc7c-49cc-bfc5-ea85ca45b33d",
   "metadata": {},
   "outputs": [
    {
     "data": {
      "text/plain": [
       "array([[False,  True, False, False,  True],\n",
       "       [False, False, False,  True,  True]])"
      ]
     },
     "execution_count": 24,
     "metadata": {},
     "output_type": "execute_result"
    }
   ],
   "source": [
    "arr = np.array([[1,21,3,5,9],[3,4,2,7,8]])\n",
    "condition = arr > 5\n",
    "condition"
   ]
  },
  {
   "cell_type": "code",
   "execution_count": 25,
   "id": "b671e8bf-5399-4150-a31e-667ad643c7a5",
   "metadata": {},
   "outputs": [
    {
     "name": "stdout",
     "output_type": "stream",
     "text": [
      "[21  9  7  8]\n"
     ]
    }
   ],
   "source": [
    "result = arr[condition]\n",
    "print(result)"
   ]
  },
  {
   "cell_type": "code",
   "execution_count": null,
   "id": "cd465dc7-c8f0-4ba6-8015-b32174b56e7f",
   "metadata": {},
   "outputs": [],
   "source": []
  },
  {
   "cell_type": "markdown",
   "id": "8de7a34d-1aea-414c-a287-2b92832cd8ea",
   "metadata": {},
   "source": [
    "## Array Broadcasting:\n",
    "- Add a scalar value to each element of a 2-dimensional array.\n",
    "- Multiply a 1-dimensional array with a 2-dimensional array, leveraging NumPy's broadcasting rules."
   ]
  },
  {
   "cell_type": "code",
   "execution_count": 67,
   "id": "1c520ae6-5409-45b9-b4f6-2968b7d09b92",
   "metadata": {},
   "outputs": [
    {
     "data": {
      "text/plain": [
       "array([[ 3, 23,  5,  7, 11],\n",
       "       [ 5,  6,  4,  9, 10]])"
      ]
     },
     "execution_count": 67,
     "metadata": {},
     "output_type": "execute_result"
    }
   ],
   "source": [
    "# Add a scalar value to each element of a 2-dimensional array\n",
    "arr = np.array([[1,21,3,5,9],[3,4,2,7,8]])\n",
    "add_scalar = arr + 2\n",
    "add_scalar"
   ]
  },
  {
   "cell_type": "code",
   "execution_count": null,
   "id": "598a8dfa-ed5c-42dc-9058-ec4f4fbf080e",
   "metadata": {},
   "outputs": [],
   "source": []
  },
  {
   "cell_type": "code",
   "execution_count": 28,
   "id": "12a770d3-8832-447f-8787-abf2c0212729",
   "metadata": {},
   "outputs": [
    {
     "data": {
      "text/plain": [
       "array([[ 2,  6, 12],\n",
       "       [ 5,  8, 18]])"
      ]
     },
     "execution_count": 28,
     "metadata": {},
     "output_type": "execute_result"
    }
   ],
   "source": [
    "# Multiply one dimension array with 2 dimension array\n",
    "a = np.array([1,2,3])\n",
    "b = np.array([[2,3,4],[5,4,6]])\n",
    "c = a*b\n",
    "c"
   ]
  },
  {
   "cell_type": "code",
   "execution_count": null,
   "id": "e114ccbe-c424-4140-bc04-d7cce28715f8",
   "metadata": {},
   "outputs": [],
   "source": []
  },
  {
   "cell_type": "markdown",
   "id": "f5cedd6c-1766-4c38-b3c7-e79abae60a20",
   "metadata": {},
   "source": [
    "## Linear Algebra:\n",
    "- Calculate the dot product of two 1-dimensional arrays.\n",
    "- Compute the matrix multiplication of two 2-dimensional arrays.\n",
    "- Find the inverse and determinant of a square matrix."
   ]
  },
  {
   "cell_type": "code",
   "execution_count": 35,
   "id": "a9e912a8-4ac6-401e-9ccf-f52a26aa94b9",
   "metadata": {},
   "outputs": [
    {
     "name": "stdout",
     "output_type": "stream",
     "text": [
      "32\n"
     ]
    }
   ],
   "source": [
    "# dot product\n",
    "a = np.array([1,2,3])\n",
    "b = np.array([4,5,6])\n",
    "c = np.dot(a,b)\n",
    "print(c)"
   ]
  },
  {
   "cell_type": "code",
   "execution_count": null,
   "id": "92aa3335-93fe-4139-a4f4-4a4df6ea0ae8",
   "metadata": {},
   "outputs": [],
   "source": []
  },
  {
   "cell_type": "code",
   "execution_count": 39,
   "id": "52a17437-f3a8-4d0c-a2e0-446701317201",
   "metadata": {},
   "outputs": [
    {
     "data": {
      "text/plain": [
       "array([[30, 36, 42],\n",
       "       [66, 81, 96]])"
      ]
     },
     "execution_count": 39,
     "metadata": {},
     "output_type": "execute_result"
    }
   ],
   "source": [
    "# Matrix multiplication\n",
    "a = np.array([[1,2,3],[4,5,6]])\n",
    "b = np.array([[1,2,3],[4,5,6],[7,8,9]])\n",
    "c = np.matmul(a,b)\n",
    "c"
   ]
  },
  {
   "cell_type": "code",
   "execution_count": null,
   "id": "23fec1f4-8673-4674-b331-0d7937156eab",
   "metadata": {},
   "outputs": [],
   "source": []
  },
  {
   "cell_type": "code",
   "execution_count": 46,
   "id": "dcf4f56b-b177-400b-824a-4d6a894918ac",
   "metadata": {},
   "outputs": [
    {
     "name": "stdout",
     "output_type": "stream",
     "text": [
      "[[-2.   1. ]\n",
      " [ 1.5 -0.5]]\n"
     ]
    }
   ],
   "source": [
    "# Inverse of a square matrix\n",
    "square = np.array([[1,2],[3,4]])\n",
    "inverse = np.linalg.inv(square)\n",
    "print(inverse)"
   ]
  },
  {
   "cell_type": "code",
   "execution_count": null,
   "id": "e579713e-80b1-43b1-a07e-892a775ef824",
   "metadata": {},
   "outputs": [],
   "source": []
  },
  {
   "cell_type": "code",
   "execution_count": 49,
   "id": "739a6865-eba2-42dc-9ada-c95458260f0a",
   "metadata": {},
   "outputs": [
    {
     "name": "stdout",
     "output_type": "stream",
     "text": [
      "-2.0000000000000004\n"
     ]
    }
   ],
   "source": [
    "# Determinant of matrix\n",
    "determinant = np.linalg.det(square)\n",
    "print(determinant)"
   ]
  },
  {
   "cell_type": "code",
   "execution_count": null,
   "id": "393c92c7-3068-4649-83ca-398fb7e7d88d",
   "metadata": {},
   "outputs": [],
   "source": []
  }
 ],
 "metadata": {
  "kernelspec": {
   "display_name": "Python 3 (ipykernel)",
   "language": "python",
   "name": "python3"
  },
  "language_info": {
   "codemirror_mode": {
    "name": "ipython",
    "version": 3
   },
   "file_extension": ".py",
   "mimetype": "text/x-python",
   "name": "python",
   "nbconvert_exporter": "python",
   "pygments_lexer": "ipython3",
   "version": "3.12.5"
  }
 },
 "nbformat": 4,
 "nbformat_minor": 5
}
